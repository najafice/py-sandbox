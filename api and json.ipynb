{
 "cells": [
  {
   "cell_type": "markdown",
   "id": "e105c060",
   "metadata": {},
   "source": [
    "list of astronuts in the air!"
   ]
  },
  {
   "cell_type": "code",
   "execution_count": 9,
   "id": "f4838df4",
   "metadata": {},
   "outputs": [
    {
     "name": "stdout",
     "output_type": "stream",
     "text": [
      "total number of astronuts are:  12\n",
      "Oleg Kononenko > ISS\n",
      "Nikolai Chub > ISS\n",
      "Tracy Caldwell Dyson > ISS\n",
      "Matthew Dominick > ISS\n",
      "Michael Barratt > ISS\n",
      "Jeanette Epps > ISS\n",
      "Alexander Grebenkin > ISS\n",
      "Butch Wilmore > ISS\n",
      "Sunita Williams > ISS\n",
      "Li Guangsu > Tiangong\n",
      "Li Cong > Tiangong\n",
      "Ye Guangfu > Tiangong\n"
     ]
    }
   ],
   "source": [
    "import requests\n",
    "import json\n",
    "\n",
    "api_url = 'http://api.open-notify.org/astros.json'\n",
    "\n",
    "astros_data = requests.get(api_url)\n",
    "if astros_data.status_code == 200:\n",
    "    #print('data retrieved successfully!')\n",
    "    astros_json = astros_data.json()\n",
    "    print(f'total number of astronuts are: ', astros_json['number'])\n",
    "    for x in astros_json['people']:\n",
    "        print(x['name'], '>', x['craft'])\n",
    "else:\n",
    "    print('cannot retreave data from the server!')\n"
   ]
  },
  {
   "cell_type": "markdown",
   "id": "5d07c028",
   "metadata": {},
   "source": [
    "bitcoin and usdt price"
   ]
  },
  {
   "cell_type": "code",
   "execution_count": 12,
   "id": "96531f92",
   "metadata": {},
   "outputs": [
    {
     "name": "stdout",
     "output_type": "stream",
     "text": [
      "Last USDTIRT price is: 996,600 IRR.\n"
     ]
    }
   ],
   "source": [
    "import requests\n",
    "import json\n",
    "\n",
    "nobitex_api = 'https://apiv2.nobitex.ir/v3/orderbook/USDTIRT'\n",
    "price_data = requests.get(nobitex_api)\n",
    "if price_data.status_code == 200:\n",
    "    price_data = price_data.json()\n",
    "    print(f'Last USDTIRT price is: {int(price_data['lastTradePrice']):,.0f} IRR.')"
   ]
  }
 ],
 "metadata": {
  "kernelspec": {
   "display_name": "Python 3",
   "language": "python",
   "name": "python3"
  },
  "language_info": {
   "codemirror_mode": {
    "name": "ipython",
    "version": 3
   },
   "file_extension": ".py",
   "mimetype": "text/x-python",
   "name": "python",
   "nbconvert_exporter": "python",
   "pygments_lexer": "ipython3",
   "version": "3.13.7"
  }
 },
 "nbformat": 4,
 "nbformat_minor": 5
}
