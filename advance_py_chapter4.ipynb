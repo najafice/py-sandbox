{
 "cells": [
  {
   "cell_type": "markdown",
   "id": "06776ced",
   "metadata": {},
   "source": [
    "# Regular Expressions (ReGex)\n",
    "\n",
    "## project 1. Finding correct e-mail address"
   ]
  },
  {
   "cell_type": "code",
   "execution_count": 5,
   "id": "4417b2ac",
   "metadata": {},
   "outputs": [
    {
     "name": "stdout",
     "output_type": "stream",
     "text": [
      "OK\n"
     ]
    }
   ],
   "source": [
    "import re\n",
    "\n",
    "email = input('Enter your e-mail address: ')\n",
    "valid_mail = r\"(\\w+)@(\\w+).(\\w{2,3})\"\n",
    "\n",
    "if re.search(valid_mail, email) == None:\n",
    "    print(\"Not OK!\") \n",
    "else:\n",
    "    print('OK') "
   ]
  }
 ],
 "metadata": {
  "kernelspec": {
   "display_name": "Python 3",
   "language": "python",
   "name": "python3"
  },
  "language_info": {
   "codemirror_mode": {
    "name": "ipython",
    "version": 3
   },
   "file_extension": ".py",
   "mimetype": "text/x-python",
   "name": "python",
   "nbconvert_exporter": "python",
   "pygments_lexer": "ipython3",
   "version": "3.13.7"
  }
 },
 "nbformat": 4,
 "nbformat_minor": 5
}
