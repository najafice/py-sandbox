{
 "cells": [
  {
   "cell_type": "markdown",
   "id": "06776ced",
   "metadata": {},
   "source": [
    "# Regular Expressions (ReGex)\n",
    "\n",
    "## Project 1: Finding correct e-mail address"
   ]
  },
  {
   "cell_type": "code",
   "execution_count": 5,
   "id": "4417b2ac",
   "metadata": {},
   "outputs": [
    {
     "name": "stdout",
     "output_type": "stream",
     "text": [
      "OK\n"
     ]
    }
   ],
   "source": [
    "import re\n",
    "\n",
    "email = input('Enter your e-mail address: ')\n",
    "valid_mail = r\"(\\w+)@(\\w+).(\\w{2,3})\"\n",
    "\n",
    "if re.search(valid_mail, email) == None:\n",
    "    print(\"Not OK!\") \n",
    "else:\n",
    "    print('OK') "
   ]
  },
  {
   "cell_type": "markdown",
   "id": "cbeccfde",
   "metadata": {},
   "source": [
    "## Project 2: Scraping Divar.ir\n",
    "برنامه‌ای بنوسید که آگهی‌های دارای تگ نردبان در صفحه اول سایت دیوار را استخراج و در خروجی چاپ کند."
   ]
  },
  {
   "cell_type": "code",
   "execution_count": 42,
   "id": "e22ce251",
   "metadata": {},
   "outputs": [
    {
     "name": "stdout",
     "output_type": "stream",
     "text": [
      "نردبان فلزی >>>> کارکرده >>>> ۸۰۰,۰۰۰ تومان\n"
     ]
    }
   ],
   "source": [
    "import requests\n",
    "from bs4 import BeautifulSoup\n",
    "\n",
    "divar_url = 'https://divar.ir/s/isfahan/toolbox?q=%D9%86%D8%B1%D8%AF%D8%A8%D8%A7%D9%86'\n",
    "\n",
    "resp = requests.get(divar_url)\n",
    "if resp.status_code == 200:\n",
    "    soup = BeautifulSoup(resp.text, 'html.parser')\n",
    "\n",
    "    quotes = []\n",
    "    divs = soup.find_all('div', class_='post-list__items-container-e44b2')\n",
    "\n",
    "    for box in divs:\n",
    "        try:\n",
    "            title = box.find('h2').text.strip()\n",
    "            meta_data = box.find_all('div', class_='kt-post-card__description')\n",
    "\n",
    "            description = meta_data[0].text.strip() if len(meta_data) > 0 else ''\n",
    "            price = meta_data[1].text.strip() if len(meta_data) > 1 else ''\n",
    "\n",
    "            quote = {\n",
    "                'title': title,\n",
    "                'description': description,\n",
    "                'price': price\n",
    "            }\n",
    "            quotes.append(quote)\n",
    "        except Exception as e:\n",
    "            print(f\"Error parsing box: {e}\")\n",
    "\n",
    "    # Display extracted quotes\n",
    "    for q in quotes:\n",
    "        print(f'{q['title']} >>>> {q['description']} >>>> {q['price']}')\n",
    "else:\n",
    "    print('Cannot access the Divar.ir website!')\n"
   ]
  },
  {
   "cell_type": "markdown",
   "id": "aff6ee6a",
   "metadata": {},
   "source": [
    "## Project 3: Scraping [scrapethissite.com](https://www.scrapethissite.com/pages/simple/)\n",
    "برنامه ای بنویسید که از سایت Scrapethissite نام کشور،پایتخت، جمعیت و مساحت 20 کشور اول را بگیرد و در یک دیتابیس دلخواه ذخیره کند."
   ]
  },
  {
   "cell_type": "code",
   "execution_count": null,
   "id": "461cfc3d",
   "metadata": {},
   "outputs": [],
   "source": []
  }
 ],
 "metadata": {
  "kernelspec": {
   "display_name": "Python 3",
   "language": "python",
   "name": "python3"
  },
  "language_info": {
   "codemirror_mode": {
    "name": "ipython",
    "version": 3
   },
   "file_extension": ".py",
   "mimetype": "text/x-python",
   "name": "python",
   "nbconvert_exporter": "python",
   "pygments_lexer": "ipython3",
   "version": "3.13.7"
  }
 },
 "nbformat": 4,
 "nbformat_minor": 5
}
