{
 "cells": [
  {
   "cell_type": "markdown",
   "id": "252a2095",
   "metadata": {},
   "source": [
    "# sandbox for testing multi-thread programming"
   ]
  },
  {
   "cell_type": "code",
   "execution_count": 3,
   "id": "a15ac108",
   "metadata": {},
   "outputs": [
    {
     "name": "stdout",
     "output_type": "stream",
     "text": [
      "'http://nonexistent-subdomain.python.org/' generated an exception: <urlopen error [Errno 11001] getaddrinfo failed>\n",
      "'http://europe.wsj.com/' generated an exception: HTTP Error 403: Forbidden\n",
      "'http://www.bbc.co.uk/' generated an exception: <urlopen error [Errno 11001] getaddrinfo failed>\n",
      "'http://www.foxnews.com/' generated an exception: <urlopen error [WinError 10060] A connection attempt failed because the connected party did not properly respond after a period of time, or established connection failed because connected host has failed to respond>\n",
      "'http://www.cnn.com/' generated an exception: <urlopen error [WinError 10060] A connection attempt failed because the connected party did not properly respond after a period of time, or established connection failed because connected host has failed to respond>\n"
     ]
    }
   ],
   "source": [
    "import concurrent.futures\n",
    "import urllib.request\n",
    "\n",
    "URLS = ['http://www.foxnews.com/',\n",
    "        'http://www.cnn.com/',\n",
    "        'http://europe.wsj.com/',\n",
    "        'http://www.bbc.co.uk/',\n",
    "        'http://nonexistent-subdomain.python.org/']\n",
    "\n",
    "# Retrieve a single page and report the URL and contents\n",
    "def load_url(url, timeout):\n",
    "    with urllib.request.urlopen(url, timeout=timeout) as conn:\n",
    "        return conn.read()\n",
    "\n",
    "# We can use a with statement to ensure threads are cleaned up promptly\n",
    "with concurrent.futures.ThreadPoolExecutor(max_workers=5) as executor:\n",
    "    # Start the load operations and mark each future with its URL\n",
    "    future_to_url = {executor.submit(load_url, url, 60): url for url in URLS}\n",
    "    for future in concurrent.futures.as_completed(future_to_url):\n",
    "        url = future_to_url[future]\n",
    "        try:\n",
    "            data = future.result()\n",
    "        except Exception as exc:\n",
    "            print('%r generated an exception: %s' % (url, exc))\n",
    "        else:\n",
    "            print('%r page is %d bytes' % (url, len(data)))"
   ]
  },
  {
   "cell_type": "markdown",
   "id": "737aa698",
   "metadata": {},
   "source": [
    "# testing Generators in python"
   ]
  },
  {
   "cell_type": "code",
   "execution_count": 3,
   "id": "771146bd",
   "metadata": {},
   "outputs": [
    {
     "name": "stdout",
     "output_type": "stream",
     "text": [
      "1\n",
      "2\n"
     ]
    }
   ],
   "source": [
    "def my_generator():\n",
    "    yield 1\n",
    "    yield 2\n",
    "    yield 3\n",
    "\n",
    "gen = my_generator()\n",
    "print(next(gen))\n",
    "print(next(gen))"
   ]
  },
  {
   "cell_type": "markdown",
   "id": "0a3f6667",
   "metadata": {},
   "source": [
    "# testing pickle lib in python"
   ]
  },
  {
   "cell_type": "code",
   "execution_count": 12,
   "id": "aab497de",
   "metadata": {},
   "outputs": [
    {
     "name": "stdout",
     "output_type": "stream",
     "text": [
      "Object unpickled successfully.\n"
     ]
    }
   ],
   "source": [
    "import pickle\n",
    "\n",
    "def fib():\n",
    "    a, b = 0, 1\n",
    "    while 1:\n",
    "       yield b\n",
    "       a, b = b, a+b\n",
    "\n",
    "a = fib()\n",
    "\n",
    "# Pickling (serializing) the object to a file\n",
    "with open('fib.pkl', 'wb') as f:\n",
    "    for i in range(500_000):\n",
    "        pickle.dump(next(a), f)\n",
    "\n",
    "# Unpickling (deserializing) the object from the file\n",
    "with open('fib.pkl', 'rb') as f:\n",
    "    loaded_data = pickle.load(f)\n",
    "    print(\"Object unpickled successfully.\")\n",
    "\n",
    "#print(f\"Loaded data: {loaded_data}\")"
   ]
  },
  {
   "cell_type": "code",
   "execution_count": null,
   "id": "706fc593",
   "metadata": {},
   "outputs": [
    {
     "name": "stdout",
     "output_type": "stream",
     "text": [
      "First value read: 1\n"
     ]
    }
   ],
   "source": [
    "import struct\n",
    "\n",
    "def fib():\n",
    "    a, b = 0, 1\n",
    "    while True:\n",
    "        yield b\n",
    "        a, b = b, a + b\n",
    "\n",
    "N = 500_000  # number of iterations\n",
    "\n",
    "# Write Fibonacci numbers to file in a streaming fashion\n",
    "with open('fib.bin', 'wb', buffering=1024*1024) as f:  # 1MB buffer\n",
    "    for i, val in zip(range(N), fib()):\n",
    "        # Store as variable-length binary (length + bytes)\n",
    "        data = val.to_bytes((val.bit_length() + 7) // 8 or 1, 'big')\n",
    "        f.write(struct.pack('>I', len(data)))  # 4-byte length prefix\n",
    "        f.write(data)\n"
   ]
  },
  {
   "cell_type": "code",
   "execution_count": 18,
   "id": "1bc486e1",
   "metadata": {},
   "outputs": [
    {
     "name": "stdout",
     "output_type": "stream",
     "text": [
      "First value read: 1\n"
     ]
    }
   ],
   "source": [
    "# Read back the first number (streaming read)\n",
    "with open('fib.bin', 'rb') as f:\n",
    "    length = struct.unpack('>I', f.read(4))[0]\n",
    "    first_val = int.from_bytes(f.read(length), 'big')\n",
    "    print(\"First value read:\", first_val)"
   ]
  },
  {
   "cell_type": "markdown",
   "id": "17ce03c3",
   "metadata": {},
   "source": [
    "# testing various functions in python"
   ]
  },
  {
   "cell_type": "code",
   "execution_count": 1,
   "id": "c0382b7b",
   "metadata": {},
   "outputs": [
    {
     "name": "stdout",
     "output_type": "stream",
     "text": [
      "0b11001 0o31 0x19\n"
     ]
    }
   ],
   "source": [
    "num = 25  \n",
    "print(bin(num), oct(num), hex(num))"
   ]
  },
  {
   "cell_type": "code",
   "execution_count": 2,
   "id": "4a242110",
   "metadata": {},
   "outputs": [
    {
     "name": "stdout",
     "output_type": "stream",
     "text": [
      "True\n"
     ]
    }
   ],
   "source": [
    "text = \"12345abc\"\n",
    "print(text.startswith((\"1\", \"12\", \"123\")))"
   ]
  },
  {
   "cell_type": "code",
   "execution_count": 7,
   "id": "6251abc1",
   "metadata": {},
   "outputs": [
    {
     "name": "stdout",
     "output_type": "stream",
     "text": [
      "[(1, 2), (1, 3), (2, 3)]\n"
     ]
    }
   ],
   "source": [
    "import itertools as iter\n",
    "\n",
    "nums = [1, 2, 3]\n",
    "# results = list(iter.permutations(nums, 2))\n",
    "results = list(iter.combinations(nums, 2))\n",
    "print(results)"
   ]
  },
  {
   "cell_type": "code",
   "execution_count": 3,
   "id": "5bf1ddb7",
   "metadata": {},
   "outputs": [
    {
     "data": {
      "text/plain": [
       "['small', 'big', 'big', 'big', 'small', 'small', 'small', 'big', 'big']"
      ]
     },
     "execution_count": 3,
     "metadata": {},
     "output_type": "execute_result"
    }
   ],
   "source": [
    "a = [2, 10, 15, 14, 8, 9, 3, 17, 16]\n",
    "list(map(lambda x: 'big' if x>=10 else 'small', a))"
   ]
  },
  {
   "cell_type": "code",
   "execution_count": 4,
   "id": "8d75eb66",
   "metadata": {},
   "outputs": [
    {
     "data": {
      "text/plain": [
       "[2, 10, 14, 8, 16]"
      ]
     },
     "execution_count": 4,
     "metadata": {},
     "output_type": "execute_result"
    }
   ],
   "source": [
    "a = [2, 10, 15, 14, 8, 9, 3, 17, 16]\n",
    "list(filter(lambda x: x%2 == 0, a))"
   ]
  },
  {
   "cell_type": "code",
   "execution_count": 5,
   "id": "5aafb29e",
   "metadata": {},
   "outputs": [
    {
     "name": "stdout",
     "output_type": "stream",
     "text": [
      "['No', 'Yes', 'Yes', 'No', 'Yes', 'No', 'Yes', 'No', 'No']\n"
     ]
    }
   ],
   "source": [
    "mylist = [2,3,5,8,11,14,17,102,44]\n",
    "print(list(map(lambda x:'Yes' if  x%2==1 else 'No',mylist)))"
   ]
  },
  {
   "cell_type": "code",
   "execution_count": 9,
   "id": "07370f5f",
   "metadata": {},
   "outputs": [
    {
     "name": "stdout",
     "output_type": "stream",
     "text": [
      "<map object at 0x000002A8319200D0>\n"
     ]
    }
   ],
   "source": [
    "mylist = [2,15,26,8,11,14,17,102,44]\n",
    "\n",
    "map_list = map(lambda x:x%10,mylist)\n",
    "print(map_list)"
   ]
  },
  {
   "cell_type": "code",
   "execution_count": null,
   "id": "f3e1e3bb",
   "metadata": {},
   "outputs": [],
   "source": [
    "def firstn(n):\n",
    "    num = 0\n",
    "    while (num<n):\n",
    "        yield num\n",
    "        num += 1\n",
    "\n",
    "for i in firstn(10_000_000):\n",
    "    print(i)"
   ]
  }
 ],
 "metadata": {
  "kernelspec": {
   "display_name": "Python 3",
   "language": "python",
   "name": "python3"
  },
  "language_info": {
   "codemirror_mode": {
    "name": "ipython",
    "version": 3
   },
   "file_extension": ".py",
   "mimetype": "text/x-python",
   "name": "python",
   "nbconvert_exporter": "python",
   "pygments_lexer": "ipython3",
   "version": "3.13.7"
  }
 },
 "nbformat": 4,
 "nbformat_minor": 5
}
