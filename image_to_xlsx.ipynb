{
 "cells": [
  {
   "cell_type": "markdown",
   "metadata": {},
   "source": [
    "# image to xslx convertor\n",
    "\n",
    "adding an image to excel by changing the cell background colors for each pixel of the image using PIL lib in python."
   ]
  },
  {
   "cell_type": "code",
   "execution_count": 3,
   "metadata": {
    "colab": {
     "base_uri": "https://localhost:8080/"
    },
    "executionInfo": {
     "elapsed": 30765,
     "status": "ok",
     "timestamp": 1756294086698,
     "user": {
      "displayName": "Abolfazl Najafi",
      "userId": "05929246711903495197"
     },
     "user_tz": -210
    },
    "id": "riMHZArkeL2V",
    "outputId": "c79bc0a2-8fdb-40d2-dddf-af6cc9c37c62"
   },
   "outputs": [
    {
     "name": "stdout",
     "output_type": "stream",
     "text": [
      "Excel file saved as output.xlsx\n"
     ]
    }
   ],
   "source": [
    "from PIL import Image\n",
    "from openpyxl import Workbook\n",
    "from openpyxl.styles import PatternFill\n",
    "\n",
    "def image_to_excel(image_path, block_size=10, output_excel=\"output.xlsx\"):\n",
    "    # Open the image\n",
    "    img = Image.open(image_path).convert(\"RGB\")\n",
    "    width, height = img.size\n",
    "\n",
    "    # Create workbook\n",
    "    wb = Workbook()\n",
    "    ws = wb.active\n",
    "\n",
    "    # Process blocks\n",
    "    for y in range(0, height, block_size):\n",
    "        for x in range(0, width, block_size):\n",
    "            # Crop block\n",
    "            block = img.crop((x, y, x+block_size, y+block_size))\n",
    "            pixels = list(block.getdata())\n",
    "\n",
    "            # Calculate mean RGB\n",
    "            r = sum(p[0] for p in pixels) // len(pixels)\n",
    "            g = sum(p[1] for p in pixels) // len(pixels)\n",
    "            b = sum(p[2] for p in pixels) // len(pixels)\n",
    "\n",
    "            # Convert RGB to hex\n",
    "            hex_color = f\"{r:02X}{g:02X}{b:02X}\"\n",
    "\n",
    "            # Determine Excel cell position\n",
    "            cell_row = y // block_size + 1\n",
    "            cell_col = x // block_size + 1\n",
    "            cell = ws.cell(row=cell_row, column=cell_col, value=hex_color)\n",
    "\n",
    "            # Apply background fill\n",
    "            fill = PatternFill(start_color=hex_color, end_color=hex_color, fill_type=\"solid\")\n",
    "            cell.fill = fill\n",
    "\n",
    "    # Save Excel file\n",
    "    wb.save(output_excel)\n",
    "    print(f\"Excel file saved as {output_excel}\")\n",
    "\n",
    "# Example usage\n",
    "image_to_excel(\"cat.webp\", block_size=5)\n"
   ]
  }
 ],
 "metadata": {
  "colab": {
   "authorship_tag": "ABX9TyMZlTjlGeib18jtr6+E5DRd",
   "provenance": []
  },
  "kernelspec": {
   "display_name": "Python 3",
   "name": "python3"
  },
  "language_info": {
   "name": "python"
  }
 },
 "nbformat": 4,
 "nbformat_minor": 0
}
