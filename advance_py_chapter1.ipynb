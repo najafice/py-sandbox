{
 "cells": [
  {
   "cell_type": "markdown",
   "metadata": {
    "id": "X1fh7KCPgsyV"
   },
   "source": [
    "# 1. Chapter One\n",
    "\n",
    "Python advance code by Jadi.net on maktabkhooneh"
   ]
  },
  {
   "cell_type": "markdown",
   "metadata": {
    "id": "hyEjRzKL-vxZ"
   },
   "source": [
    "## 1.1. Prime Divisors 🔢\n",
    "calculating the maximum number of prime divisor of a list."
   ]
  },
  {
   "cell_type": "code",
   "execution_count": null,
   "metadata": {
    "id": "B9khTruyemnL"
   },
   "outputs": [],
   "source": [
    "from sympy import *\n",
    "\n",
    "list = [123, 43, 54, 12, 76, 84, 98, 678, 543, 231]\n",
    "\n",
    "def get_divisors(num):\n",
    "    div_list = []\n",
    "    for i in range(1, int(num)+1):\n",
    "        if num % i == 0:\n",
    "            div_list.append(i)\n",
    "    return div_list\n",
    "\n",
    "def prime_check(list):\n",
    "    return [x for x in list if isprime(x)==True]\n",
    "\n",
    "prime_div_count_list = []\n",
    "for i in list:\n",
    "    a = prime_check(get_divisors(i))\n",
    "    b = (i, len(a))\n",
    "    prime_div_count_list.append(b)\n",
    "\n",
    "for i in prime_div_count_list:\n",
    "    max_p = 0\n",
    "    if i[1] > max_p:\n",
    "        max_p = i[1]\n",
    "\n",
    "number, prime_div_count = max(prime_div_count_list, key=lambda t: (t[1], t[0]))\n",
    "print(f\"Maximum number of prime divisors is {prime_div_count} for {number}\")"
   ]
  },
  {
   "cell_type": "markdown",
   "metadata": {
    "id": "kKUIHW8Z8TYF"
   },
   "source": [
    "## 1.2. World Cup Group B 🌍\n",
    "Calculating the **wins**, **loses**, **draws**, **goal difference** and **points** of *every country* based on the data user provides.\n",
    "If the scores are equal, use number of wins. if both the scores and number of wins are equal, use alphabetic order to print the results.\n",
    "> Point calculation: **win**: 3 points, **loose**: 0 points, and **equals**: 1 points.\n",
    "1. Iran - Spain\n",
    "2. Iran - Portugal\n",
    "3. Iran - Morocco\n",
    "4. Spain - Portugal\n",
    "5. Spain - Morocco\n",
    "6. Portugal - Morocco"
   ]
  },
  {
   "cell_type": "code",
   "execution_count": null,
   "metadata": {
    "id": "3c3AwnbI-9GN"
   },
   "outputs": [],
   "source": [
    "class TeamStats:\n",
    "    def __init__(self, name):\n",
    "        self.name = name\n",
    "        self.wins = 0\n",
    "        self.draws = 0\n",
    "        self.losses = 0\n",
    "        self.goals_for = 0\n",
    "        self.goals_against = 0\n",
    "\n",
    "    def update(self, scored, conceded):\n",
    "        self.goals_for += scored\n",
    "        self.goals_against += conceded\n",
    "        if scored > conceded:\n",
    "            self.wins += 1\n",
    "        elif scored < conceded:\n",
    "            self.losses += 1\n",
    "        else:\n",
    "            self.draws += 1\n",
    "\n",
    "    def points(self):\n",
    "        return self.wins * 3 + self.draws\n",
    "\n",
    "    def goal_difference(self):\n",
    "        return self.goals_for - self.goals_against\n",
    "\n",
    "    def __repr__(self):\n",
    "        return (f\"{self.name}  wins:{self.wins} , loses:{self.losses} , \"\n",
    "                f\"draws:{self.draws} , goal difference:{self.goal_difference()} , \"\n",
    "                f\"points:{self.points()}\")\n",
    "\n",
    "\n",
    "# Unified match data (can be adapted to read from user input or file)\n",
    "matches = [\n",
    "    (\"Iran\", \"Spain\", 2, 2),\n",
    "    (\"Iran\", \"Portugal\", 2, 1),\n",
    "    (\"Iran\", \"Morocco\", 1, 2),\n",
    "    (\"Spain\", \"Portugal\", 2, 2),\n",
    "    (\"Spain\", \"Morocco\", 3, 1),\n",
    "    (\"Portugal\", \"Morocco\", 2, 1)\n",
    "]\n",
    "\n",
    "# Initialize and update team stats\n",
    "teams = {}\n",
    "\n",
    "for team1, team2, goals1, goals2 in matches:\n",
    "    for name in [team1, team2]:\n",
    "        if name not in teams:\n",
    "            teams[name] = TeamStats(name)\n",
    "    teams[team1].update(goals1, goals2)\n",
    "    teams[team2].update(goals2, goals1)\n",
    "\n",
    "# Sort by points, then wins, then alphabetical order\n",
    "sorted_teams = sorted(\n",
    "    teams.values(),\n",
    "    key=lambda t: (-t.points(), -t.wins, t.name)\n",
    ")\n",
    "\n",
    "# Display results\n",
    "for team in sorted_teams:\n",
    "    print(team)\n"
   ]
  },
  {
   "cell_type": "markdown",
   "metadata": {
    "id": "HQwVedIBvmDn"
   },
   "source": [
    "## 1.3. Movie Genre Poll 🎥\n",
    "**Genre List**: *Horror, Romance, Comedy, History, Adventure, Action.*\n",
    "\n",
    "User should choose upto 3 genre, then the program should return list of genre sorted by the most favorite one, if there are two genre with same score, sort them using alphabetical order."
   ]
  },
  {
   "cell_type": "code",
   "execution_count": null,
   "metadata": {
    "id": "vlBLZqB9wdU-"
   },
   "outputs": [],
   "source": [
    "# Number of users\n",
    "num = int(input(\"input number of users to ask: \"))\n",
    "\n",
    "# List of available genres\n",
    "genre_list = ['Horror', 'Romance', 'Comedy', 'History', 'Adventure', 'Action']\n",
    "\n",
    "# Dictionary to store counts (initialize with 0 for all genres)\n",
    "poll_results = {genre: 0 for genre in genre_list}\n",
    "\n",
    "# Collect votes\n",
    "for _ in range(num):\n",
    "    data = input().split()\n",
    "    name = data[0]\n",
    "    genres = data[1:]\n",
    "    for g in genres:\n",
    "        if g in genre_list:\n",
    "            poll_results[g] += 1\n",
    "        else:\n",
    "            print(f\"provided genre {g} is not valid!\")\n",
    "\n",
    "# Sort: first by count (descending), then alphabetically\n",
    "sorted_results = sorted(poll_results.items(), key=lambda x: (-x[1], x[0]))\n",
    "\n",
    "# Print results\n",
    "for genre, count in sorted_results:\n",
    "    print(f\"{genre} : {count}\")"
   ]
  },
  {
   "cell_type": "markdown",
   "metadata": {
    "id": "h8ytlNdLrRDB"
   },
   "source": [
    "## 1.4. Computer Olampia 💻\n",
    "Write a programm that shows number, name, gender and lang of the participants in a convenient format (i.e. names should be capital). then sort them according to their gender  (first femele then male) and alphabetic order of their name."
   ]
  },
  {
   "cell_type": "code",
   "execution_count": null,
   "metadata": {
    "colab": {
     "base_uri": "https://localhost:8080/"
    },
    "executionInfo": {
     "elapsed": 14438,
     "status": "ok",
     "timestamp": 1756550829764,
     "user": {
      "displayName": "Abolfazl Najafi",
      "userId": "05929246711903495197"
     },
     "user_tz": -210
    },
    "id": "lwxQ5hhda2PM",
    "outputId": "288259c6-a80e-454f-e412-080d1d246845"
   },
   "outputs": [
    {
     "name": "stdout",
     "output_type": "stream",
     "text": [
      "enter number of participants: 4\n",
      "f.Sara.java\n",
      "m.hosSein.python\n",
      "f.miNa.C\n",
      "m.aHMad.C++\n",
      "----------------RESULTS-----------------\n",
      "f Mina C\n",
      "f Sara java\n",
      "m Ahmad C++\n",
      "m Hossein python\n"
     ]
    }
   ],
   "source": [
    "NUM_OF_PARTCIPANTS = input(\"enter number of participants: \")\n",
    "\n",
    "PARTICIPANTS = []\n",
    "for _ in range(int(NUM_OF_PARTCIPANTS)):\n",
    "    info = input().split(\".\")\n",
    "    gender = info[0]\n",
    "    name = info[1].capitalize()\n",
    "    lang = info[2]\n",
    "    data = {\n",
    "        'gender': gender,\n",
    "        'name': name,\n",
    "        'lang': lang\n",
    "    }\n",
    "    PARTICIPANTS.append(data)\n",
    "\n",
    "# Sort the list by 'gender' and then 'name'\n",
    "def sort_key(person):\n",
    "    gender_priority = 0 if person.get('gender') == 'f' else 1 if person.get('gender') == 'm' else 2\n",
    "    return (gender_priority, person.get('name', ''))\n",
    "\n",
    "sorted_participants = sorted(PARTICIPANTS, key=sort_key)\n",
    "\n",
    "STROUT = \"RESULTS\".center(40, \"-\")\n",
    "print(STROUT)\n",
    "\n",
    "# Print the sorted list\n",
    "for person in sorted_participants:\n",
    "    print(f\"{person['gender']} {person['name']} {person['lang']}\")"
   ]
  },
  {
   "cell_type": "markdown",
   "metadata": {
    "id": "C5v2ZfUnl9pc"
   },
   "source": [
    "## 1.5. Capitalized words 📚\n",
    "Find all and print the capitalized words in the sentence with the number of word beside it."
   ]
  },
  {
   "cell_type": "code",
   "execution_count": null,
   "metadata": {
    "colab": {
     "base_uri": "https://localhost:8080/"
    },
    "executionInfo": {
     "elapsed": 5,
     "status": "ok",
     "timestamp": 1756554563665,
     "user": {
      "displayName": "Abolfazl Najafi",
      "userId": "05929246711903495197"
     },
     "user_tz": -210
    },
    "id": "hc07_A1xmW2k",
    "outputId": "54169ea1-87d3-4668-9eb1-6a76f76ff479"
   },
   "outputs": [
    {
     "name": "stdout",
     "output_type": "stream",
     "text": [
      "----------------RESULTS-----------------\n",
      "2: Persian\n",
      "3: League\n",
      "15: Iran\n",
      "17: Persian\n",
      "18: League\n"
     ]
    }
   ],
   "source": [
    "MAIN_STR = (\n",
    "    \"The Persian League is the largest sport event dedicated to the deprived areas of Iran. \"\n",
    "    \"The Persian League promotes peace and friendship. \"\n",
    "    \"This video was captured by one of our heroes who wishes peace.\"\n",
    ")\n",
    "\n",
    "# Split into sentences\n",
    "sentences = MAIN_STR.split(\".\")\n",
    "\n",
    "RESULTS = []\n",
    "word_position = 0  # overall word index\n",
    "\n",
    "for sentence in sentences:\n",
    "    words = sentence.strip().split()\n",
    "    for i, w in enumerate(words):\n",
    "        word_position += 1\n",
    "        clean_word = w.strip(\".,!?;:\")  # remove punctuation\n",
    "\n",
    "        # Single condition: skip first word of sentence AND only keep capitalized words\n",
    "        # In Python, an empty string is considered False in a boolean context, so\n",
    "        # we check clean_wor > if it's not empty it will return TRUE.\n",
    "        if i != 0 and clean_word and clean_word[0].isupper():\n",
    "            RESULTS.append({'num': word_position, 'word': clean_word})\n",
    "\n",
    "# Output\n",
    "print(\"RESULTS\".center(40, \"-\"))\n",
    "for item in RESULTS:\n",
    "    print(f\"{item['num']}: {item['word']}\")"
   ]
  },
  {
   "cell_type": "markdown",
   "metadata": {
    "id": "RUC1lVUjz9CL"
   },
   "source": [
    "## 1.6. Mobile translator 🗣\n",
    "Nima needs a program to translate sentences from *English, French, or German* into his native language using a provided multilingual dictionary.\n",
    "\n",
    "The dictionary maps each word in all four languages (**native, English, French, German**) to the native word.\n",
    "If a word in the sentence is not found in the dictionary, it should be left unchanged in the output."
   ]
  },
  {
   "cell_type": "code",
   "execution_count": 6,
   "metadata": {
    "colab": {
     "base_uri": "https://localhost:8080/"
    },
    "executionInfo": {
     "elapsed": 9733,
     "status": "ok",
     "timestamp": 1756575516143,
     "user": {
      "displayName": "Abolfazl Najafi",
      "userId": "05929246711903495197"
     },
     "user_tz": -210
    },
    "id": "Udm2fmoM_Cyz",
    "outputId": "4094fa7d-0cd4-49c3-fcce-e9239083694c"
   },
   "outputs": [
    {
     "name": "stdout",
     "output_type": "stream",
     "text": [
      "Enter a sentence in any language: I am very interested in laprogrammation\n",
      "man am kheili alaghemand in barnamenevisi\n"
     ]
    }
   ],
   "source": [
    "# Hard-coded dictionary of words in 4 languages\n",
    "# Each entry maps all variants to the native word\n",
    "translator = {}\n",
    "\n",
    "# List of entries: (native, english, french, german)\n",
    "entries = [\n",
    "    (\"man\", \"I\", \"je\", \"ich\"),\n",
    "    (\"kheili\", \"very\", \"très\", \"sehr\"),\n",
    "    (\"alaghemand\", \"interested\", \"intéressé\", \"interessiert\"),\n",
    "    (\"barnamenevisi\", \"programming\", \"laprogrammation\", \"Programmierung\")\n",
    "]\n",
    "\n",
    "# Build lookup table\n",
    "for native, english, french, german in entries:\n",
    "    translator[native] = native\n",
    "    translator[english] = native\n",
    "    translator[french] = native\n",
    "    translator[german] = native\n",
    "\n",
    "# Translate a sentence\n",
    "sentence = input(\"Enter a sentence in any language: \").split()\n",
    "translated = [translator.get(word, word) for word in sentence]\n",
    "print(\" \".join(translated))\n"
   ]
  }
 ],
 "metadata": {
  "colab": {
   "authorship_tag": "ABX9TyNY8OLNk+EV5F4IL3BOn6K/",
   "provenance": []
  },
  "kernelspec": {
   "display_name": "Python 3",
   "name": "python3"
  },
  "language_info": {
   "name": "python"
  }
 },
 "nbformat": 4,
 "nbformat_minor": 0
}
