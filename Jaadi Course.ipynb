{
 "cells": [
  {
   "cell_type": "markdown",
   "id": "5affa5bc",
   "metadata": {},
   "source": [
    "### Python sandbox"
   ]
  },
  {
   "cell_type": "code",
   "execution_count": 14,
   "id": "198adeb2",
   "metadata": {},
   "outputs": [],
   "source": [
    "a = \"Jadi,dog,man,her,forex\""
   ]
  },
  {
   "cell_type": "code",
   "execution_count": 21,
   "id": "7ae80118-05ad-42fb-bb07-d859d1f92bbe",
   "metadata": {},
   "outputs": [
    {
     "data": {
      "text/plain": [
       "5"
      ]
     },
     "execution_count": 21,
     "metadata": {},
     "output_type": "execute_result"
    }
   ],
   "source": [
    "a.find(\"dog\")"
   ]
  },
  {
   "cell_type": "code",
   "execution_count": 1,
   "id": "b6e50e50-470d-45d1-8489-d93b0a425bb1",
   "metadata": {},
   "outputs": [],
   "source": [
    "t1 = (1, 2, 3, 4, 5)"
   ]
  },
  {
   "cell_type": "code",
   "execution_count": 3,
   "id": "b0168494",
   "metadata": {},
   "outputs": [
    {
     "data": {
      "text/plain": [
       "1"
      ]
     },
     "execution_count": 3,
     "metadata": {},
     "output_type": "execute_result"
    }
   ],
   "source": [
    "t1.count(2)"
   ]
  },
  {
   "cell_type": "code",
   "execution_count": 3,
   "id": "fb17bcbc",
   "metadata": {},
   "outputs": [
    {
     "name": "stdout",
     "output_type": "stream",
     "text": [
      "5.0\n"
     ]
    }
   ],
   "source": [
    "import math as math\n",
    "coordA = (3, 4)\n",
    "coord0 = (0, 0)\n",
    "distance = math.sqrt(\n",
    "    (coordA[0]-coord0[0])**2\n",
    "    +\n",
    "    (coordA[1]-coord0[1])**2\n",
    ")\n",
    "print(distance)"
   ]
  },
  {
   "cell_type": "code",
   "execution_count": 17,
   "id": "9d350a27",
   "metadata": {},
   "outputs": [
    {
     "data": {
      "text/plain": [
       "{'00', 10, 20, 30, 40, 50}"
      ]
     },
     "execution_count": 17,
     "metadata": {},
     "output_type": "execute_result"
    }
   ],
   "source": [
    "classr = set()\n",
    "classr = {10, 20, 30, 40, 50}\n",
    "classr.add(\"00\")\n",
    "classr"
   ]
  },
  {
   "cell_type": "code",
   "execution_count": 2,
   "id": "a0b16145",
   "metadata": {},
   "outputs": [
    {
     "data": {
      "text/plain": [
       "{'gav', 'gorg', 'khar', 'sag'}"
      ]
     },
     "execution_count": 2,
     "metadata": {},
     "output_type": "execute_result"
    }
   ],
   "source": [
    "heyvoon = set([\"sag\", \"gorg\", \"khar\", \"gav\"])\n",
    "heyvoon"
   ]
  },
  {
   "cell_type": "code",
   "execution_count": 18,
   "id": "0230131b",
   "metadata": {},
   "outputs": [
    {
     "data": {
      "text/plain": [
       "{'00', 10, 20, 30, 40, 50, 'gav', 'gorg', 'khar', 'sag'}"
      ]
     },
     "execution_count": 18,
     "metadata": {},
     "output_type": "execute_result"
    }
   ],
   "source": [
    "classr.union(heyvoon)"
   ]
  },
  {
   "cell_type": "code",
   "execution_count": 20,
   "id": "f69d9b48",
   "metadata": {},
   "outputs": [
    {
     "data": {
      "text/plain": [
       "set"
      ]
     },
     "execution_count": 20,
     "metadata": {},
     "output_type": "execute_result"
    }
   ],
   "source": [
    "type(classr)"
   ]
  },
  {
   "cell_type": "code",
   "execution_count": 23,
   "id": "01a20e8a",
   "metadata": {},
   "outputs": [],
   "source": [
    "setA = set([1, 2, 3, 4])\n",
    "setB = set([3, 4, 5, 6])\n",
    "\n",
    "اجتماع = setA.union(setB)\n",
    "اشتراک = setA.intersection(setB)"
   ]
  },
  {
   "cell_type": "code",
   "execution_count": 24,
   "id": "2c968a6d",
   "metadata": {},
   "outputs": [
    {
     "name": "stdout",
     "output_type": "stream",
     "text": [
      "{1, 2, 3, 4, 5, 6}\n",
      "{3, 4}\n"
     ]
    }
   ],
   "source": [
    "print(اجتماع)\n",
    "print(اشتراک)"
   ]
  },
  {
   "cell_type": "code",
   "execution_count": 1,
   "id": "7c7bd8bf",
   "metadata": {},
   "outputs": [
    {
     "data": {
      "text/plain": [
       "{'a', 'b', 'c', 'd', 'e', 'f', 'k', 'l', 'm', 'n'}"
      ]
     },
     "execution_count": 1,
     "metadata": {},
     "output_type": "execute_result"
    }
   ],
   "source": [
    "a = set('abcdefghij')\n",
    "b = set('ghijklmn')\n",
    "a ^ b"
   ]
  },
  {
   "cell_type": "markdown",
   "id": "c278e342",
   "metadata": {},
   "source": [
    "set comprehensions similiar to lists:"
   ]
  },
  {
   "cell_type": "code",
   "execution_count": 35,
   "id": "07f8ddea",
   "metadata": {},
   "outputs": [
    {
     "data": {
      "text/plain": [
       "{'a', 'b', 'c', 'd', 'e', 'f', 'm', 'n'}"
      ]
     },
     "execution_count": 35,
     "metadata": {},
     "output_type": "execute_result"
    }
   ],
   "source": [
    "a = {x for x in 'abcdefghijklmn' if x not in 'ghijkl'}\n",
    "a"
   ]
  },
  {
   "cell_type": "code",
   "execution_count": 36,
   "id": "94e99d65",
   "metadata": {},
   "outputs": [
    {
     "data": {
      "text/plain": [
       "True"
      ]
     },
     "execution_count": 36,
     "metadata": {},
     "output_type": "execute_result"
    }
   ],
   "source": [
    "'a' in a"
   ]
  },
  {
   "cell_type": "code",
   "execution_count": 40,
   "id": "a09c8442",
   "metadata": {},
   "outputs": [
    {
     "data": {
      "text/plain": [
       "'hello this is my file\\njadi help me creating this\\n\\nby\\n^z\\n^Z\\n'"
      ]
     },
     "execution_count": 40,
     "metadata": {},
     "output_type": "execute_result"
    }
   ],
   "source": [
    "f = open('myfile.txt')\n",
    "f.read()"
   ]
  },
  {
   "cell_type": "code",
   "execution_count": 41,
   "id": "4d2341f1",
   "metadata": {},
   "outputs": [
    {
     "data": {
      "text/plain": [
       "''"
      ]
     },
     "execution_count": 41,
     "metadata": {},
     "output_type": "execute_result"
    }
   ],
   "source": [
    "f.read()"
   ]
  },
  {
   "cell_type": "code",
   "execution_count": 42,
   "id": "e9fe6ce7",
   "metadata": {},
   "outputs": [
    {
     "data": {
      "text/plain": [
       "'hello this is my file\\njadi help me creating this\\n\\nby\\n^z\\n^Z\\n'"
      ]
     },
     "execution_count": 42,
     "metadata": {},
     "output_type": "execute_result"
    }
   ],
   "source": [
    "f.seek(0)\n",
    "f.read()"
   ]
  },
  {
   "cell_type": "code",
   "execution_count": 43,
   "id": "df525b69",
   "metadata": {},
   "outputs": [
    {
     "name": "stdout",
     "output_type": "stream",
     "text": [
      "Writing funny_file.txt\n"
     ]
    }
   ],
   "source": [
    "%%writefile funny_file.txt\n",
    "hello this is my funny file!"
   ]
  },
  {
   "cell_type": "code",
   "execution_count": 48,
   "id": "9567fdf0",
   "metadata": {},
   "outputs": [],
   "source": [
    "new_f = open('funny_file.txt')\n",
    "new_f.seek(0)\n",
    "new_f.readlines()\n",
    "f.close()"
   ]
  },
  {
   "cell_type": "code",
   "execution_count": 4,
   "id": "25327169",
   "metadata": {},
   "outputs": [
    {
     "name": "stdout",
     "output_type": "stream",
     "text": [
      "this line is added using py!\n",
      "this is my new line!\n",
      "final line.\n"
     ]
    }
   ],
   "source": [
    "with open('funny_file.txt', 'r+') as f:\n",
    "    print(f.read())"
   ]
  }
 ],
 "metadata": {
  "kernelspec": {
   "display_name": "Python 3",
   "language": "python",
   "name": "python3"
  },
  "language_info": {
   "codemirror_mode": {
    "name": "ipython",
    "version": 3
   },
   "file_extension": ".py",
   "mimetype": "text/x-python",
   "name": "python",
   "nbconvert_exporter": "python",
   "pygments_lexer": "ipython3",
   "version": "3.13.7"
  }
 },
 "nbformat": 4,
 "nbformat_minor": 5
}
