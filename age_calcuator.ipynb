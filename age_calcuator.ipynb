{
 "cells": [
  {
   "cell_type": "markdown",
   "id": "ac1fc8ea",
   "metadata": {},
   "source": [
    "# Age calculator in python"
   ]
  },
  {
   "cell_type": "code",
   "execution_count": 2,
   "id": "f1a8b94b",
   "metadata": {},
   "outputs": [
    {
     "name": "stdout",
     "output_type": "stream",
     "text": [
      "My age is: 28.20 years.\n"
     ]
    }
   ],
   "source": [
    "\"\"\"\n",
    "Calculating age based on datetime library\n",
    "\"\"\"\n",
    "import datetime\n",
    "\n",
    "bird = datetime.datetime(1997, 6, 23, 10, 30)\n",
    "now = datetime.datetime.now()\n",
    "\n",
    "sen = now - bird\n",
    "print(f\"My age is: {sen.days / 365.25:.2f} years.\")"
   ]
  }
 ],
 "metadata": {
  "kernelspec": {
   "display_name": "Python 3",
   "language": "python",
   "name": "python3"
  },
  "language_info": {
   "codemirror_mode": {
    "name": "ipython",
    "version": 3
   },
   "file_extension": ".py",
   "mimetype": "text/x-python",
   "name": "python",
   "nbconvert_exporter": "python",
   "pygments_lexer": "ipython3",
   "version": "3.13.7"
  }
 },
 "nbformat": 4,
 "nbformat_minor": 5
}
