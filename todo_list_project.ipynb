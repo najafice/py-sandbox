{
 "cells": [
  {
   "cell_type": "markdown",
   "metadata": {
    "id": "5SXekeayV_sg"
   },
   "source": [
    "**To-Do List project**\n",
    "\n",
    "*programmed by Abolfazl Najafi*\n",
    "\n",
    "August 2025, Python programming course, Maktabkhooneh 🌿"
   ]
  },
  {
   "cell_type": "code",
   "execution_count": 2,
   "metadata": {
    "id": "bqAe8F_oV7GA"
   },
   "outputs": [],
   "source": [
    "import csv"
   ]
  },
  {
   "cell_type": "code",
   "execution_count": 3,
   "metadata": {
    "id": "iSz3VLJ4reQv"
   },
   "outputs": [],
   "source": [
    "class Task:\n",
    "    task_dict = {}\n",
    "    def __init__(self, name, priority, description):\n",
    "        self.name = name\n",
    "        self.priority = priority\n",
    "        self.description = description\n",
    "\n",
    "    def to_dict(self):\n",
    "        return {\n",
    "            \"name\": self.name,\n",
    "            \"priority\": self.priority,\n",
    "            \"description\": self.description\n",
    "        }"
   ]
  },
  {
   "cell_type": "code",
   "execution_count": 4,
   "metadata": {
    "id": "c8ZI1ucusrjg"
   },
   "outputs": [],
   "source": [
    "class ToDoList:\n",
    "    def __init__(self):\n",
    "        self.task_list = []\n",
    "\n",
    "    def add_task(self, task = Task):\n",
    "        \"\"\"Add a Task object to the list.\"\"\"\n",
    "        self.task_list.append(task.to_dict())\n",
    "\n",
    "    def del_task(self, name = str):\n",
    "        \"\"\"Remove a task by its name.\"\"\"\n",
    "        self.task_list = [t for t in self.task_list if t['name'] != name]\n",
    "\n",
    "    def show_tasks(self):\n",
    "        \"\"\"Display all tasks in the list.\"\"\"\n",
    "        if not self.task_list:\n",
    "            print(\"No tasks available.\")\n",
    "        else:\n",
    "            for i, task in enumerate(self.task_list, start=1):\n",
    "                print(f\"{i}. Name: {task['name']}, Priority: {task['priority']}, Description: {task['description']}\")\n",
    "\n",
    "    def save_csv(self, filename: str):\n",
    "        \"\"\"Save tasks to a CSV file.\"\"\"\n",
    "        with open(filename, mode=\"w\", newline=\"\", encoding=\"utf-8\") as csvfile:\n",
    "            writer = csv.DictWriter(csvfile, fieldnames=[\"name\", \"priority\", \"description\"])\n",
    "            writer.writeheader()\n",
    "            writer.writerows(self.task_list)\n",
    "        return f\"to-do list saved into {filename} successfully!\"\n",
    "\n",
    "    def load_csv(self, filename: str):\n",
    "        \"\"\"Load tasks from a CSV file.\"\"\"\n",
    "        loaded_list = []\n",
    "        try:\n",
    "            with open(filename, mode=\"r\", newline=\"\", encoding=\"utf-8\") as f:\n",
    "                reader = csv.DictReader(f)\n",
    "                self.task_list = [row for row in reader]\n",
    "        except FileNotFoundError:\n",
    "            return f\"file {filename} is not found!\""
   ]
  },
  {
   "cell_type": "code",
   "execution_count": 5,
   "metadata": {
    "id": "zVyAqBifrUkP"
   },
   "outputs": [
    {
     "name": "stdout",
     "output_type": "stream",
     "text": [
      "To-Do list manager, v1.03\n",
      "\n",
      "--- Main Menu ---\n",
      "1. Load tasks from CSV\n",
      "2. Create a new task list\n",
      "3. Exit\n",
      "Goodbye!\n"
     ]
    }
   ],
   "source": [
    "if __name__ == \"__main__\":\n",
    "    print(\"To-Do list manager, v1.03\")\n",
    "    # Create a task manager\n",
    "    manager = ToDoList()\n",
    "\n",
    "    while True:\n",
    "        print(\"\\n--- Main Menu ---\")\n",
    "        print(\"1. Load tasks from CSV\")\n",
    "        print(\"2. Create a new task list\")\n",
    "        print(\"3. Exit\")\n",
    "\n",
    "        choice = input(\"Choose an option (1-3): \").strip()\n",
    "\n",
    "        if choice == \"1\":\n",
    "            user_filename = input(\"Enter file name (csv): \")\n",
    "            manager.load_csv(user_filename)\n",
    "            manager.show_tasks()\n",
    "\n",
    "        elif choice == \"2\":\n",
    "            while True:\n",
    "                print(\"\\n--- Task Manager Menu ---\")\n",
    "                print(\"1. Add a new task\")\n",
    "                print(\"2. Delete a task\")\n",
    "                print(\"3. Show all tasks\")\n",
    "                print(\"4. Save tasks to CSV\")\n",
    "                print(\"5. Back to main menu\")\n",
    "\n",
    "                sub_choice = input(\"Choose an option (1-5): \").strip()\n",
    "\n",
    "                if sub_choice == \"1\":\n",
    "                    name = input(\"Enter task name: \")\n",
    "                    priority = input(\"Enter task priority: \")\n",
    "                    description = input(\"Enter task description: \")\n",
    "                    manager.add_task(Task(name, priority, description))\n",
    "                    print(\"Task added successfully.\")\n",
    "\n",
    "                elif sub_choice == \"2\":\n",
    "                    name = input(\"Enter the task name to delete: \")\n",
    "                    if manager.del_task(name):\n",
    "                        print(\"Task removed successfully.\")\n",
    "                    else:\n",
    "                        print(\"Task not found.\")\n",
    "\n",
    "                elif sub_choice == \"3\":\n",
    "                    manager.show_tasks()\n",
    "\n",
    "                elif sub_choice == \"4\":\n",
    "                    user_filename = input(\"Enter file name (csv): \")\n",
    "                    manager.save_csv(user_filename)\n",
    "                    print(f'Tasks saved into {user_filename} successfully!')\n",
    "\n",
    "                elif sub_choice == \"5\":\n",
    "                    break\n",
    "                else:\n",
    "                    print(\"Invalid choice. Please try again.\")\n",
    "\n",
    "        elif choice == \"3\":\n",
    "            print(\"Goodbye!\")\n",
    "            break\n",
    "        else:\n",
    "            print(\"Invalid choice. Please try again.\")\n"
   ]
  }
 ],
 "metadata": {
  "colab": {
   "authorship_tag": "ABX9TyNCln0aQACME9ANCEALIafF",
   "provenance": []
  },
  "kernelspec": {
   "display_name": "Python 3",
   "name": "python3"
  },
  "language_info": {
   "codemirror_mode": {
    "name": "ipython",
    "version": 3
   },
   "file_extension": ".py",
   "mimetype": "text/x-python",
   "name": "python",
   "nbconvert_exporter": "python",
   "pygments_lexer": "ipython3",
   "version": "3.13.7"
  }
 },
 "nbformat": 4,
 "nbformat_minor": 0
}
