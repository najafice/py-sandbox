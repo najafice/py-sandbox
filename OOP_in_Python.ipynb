{
 "cells": [
  {
   "cell_type": "markdown",
   "id": "a49d60f2",
   "metadata": {},
   "source": [
    "# Object Oriented Programming (OOP) in Python\n",
    "\n",
    "Notebook for OOP topic"
   ]
  },
  {
   "cell_type": "code",
   "execution_count": 10,
   "id": "c50be047",
   "metadata": {},
   "outputs": [
    {
     "name": "stdout",
     "output_type": "stream",
     "text": [
      "+98 21-3478-2000\n",
      "Tehran, Iran\n"
     ]
    }
   ],
   "source": [
    "class university():\n",
    "    def __init__(self, name):\n",
    "        self. name = name\n",
    "    def location(self):\n",
    "        print('Tehran, Iran')\n",
    "    def contact(self):\n",
    "        print('+98 21-3478-2000')\n",
    "\n",
    "iust = university('IRAN UNIVERSITY OF SCIENCE AND TECHNOLOGY')\n",
    "\n",
    "iust.name\n",
    "\n",
    "iust.contact()\n",
    "iust.location()"
   ]
  },
  {
   "cell_type": "code",
   "execution_count": 22,
   "id": "d9f48e7b",
   "metadata": {},
   "outputs": [],
   "source": [
    "class Circle():\n",
    "    Pi = 3.14\n",
    "    def __init__(self, r):\n",
    "        self.r = r\n",
    "\n",
    "    def area(self):\n",
    "        a = self.r * self.r * Circle.Pi\n",
    "        return a\n",
    "    \n",
    "    def perimeter(self):\n",
    "        p = 2 * self.r * Circle.Pi\n",
    "        return p"
   ]
  },
  {
   "cell_type": "code",
   "execution_count": 28,
   "id": "4d9825ca",
   "metadata": {},
   "outputs": [
    {
     "data": {
      "text/plain": [
       "28.26"
      ]
     },
     "execution_count": 28,
     "metadata": {},
     "output_type": "execute_result"
    }
   ],
   "source": [
    "c1 = Circle(3)\n",
    "c1.area()"
   ]
  },
  {
   "cell_type": "markdown",
   "id": "0ede9af6",
   "metadata": {},
   "source": [
    "## working with dunder init in oop"
   ]
  },
  {
   "cell_type": "code",
   "execution_count": 1,
   "id": "7d48aa67",
   "metadata": {},
   "outputs": [
    {
     "name": "stdout",
     "output_type": "stream",
     "text": [
      "16.2\n",
      "172.4\n",
      "63.0\n",
      "15.8\n",
      "164.4\n",
      "51.6\n",
      "A\n"
     ]
    }
   ],
   "source": [
    "class student():\n",
    "    count = 0\n",
    "    def __init__ (self, age, height, weight):\n",
    "        self.height = height\n",
    "        self.weight = weight\n",
    "        self.age = age\n",
    "        student.count += 1\n",
    "    \n",
    "    def avg_age(self):\n",
    "        return sum(self.age) / float(len(self.age))\n",
    "\n",
    "    def avg_height(self):\n",
    "        return sum(self.height) / len(self.height)\n",
    "    \n",
    "    def avg_weight(self):\n",
    "        return sum(self.weight) / len(self.weight)\n",
    "\n",
    "if __name__ == \"__main__\":\n",
    "\n",
    "    classA_age = [16, 17, 15, 16, 17]\n",
    "    classA_height = [180, 175, 172, 170, 165]\n",
    "    classA_weight = [67, 72, 59, 62, 55]\n",
    "\n",
    "    classB_age = [15, 17, 16, 15, 16]\n",
    "    classB_height = [166, 156, 168, 170, 162]\n",
    "    classB_weight = [45, 52, 56, 58, 47]\n",
    "\n",
    "    classA = student(classA_age, classA_height, classA_weight)\n",
    "    classB = student(classB_age, classB_height, classB_weight)\n",
    "\n",
    "    print(classA.avg_age())\n",
    "    print(classA.avg_height())\n",
    "    print(classA.avg_weight())\n",
    "\n",
    "    print(classB.avg_age())\n",
    "    print(classB.avg_height())\n",
    "    print(classB.avg_weight())\n",
    "\n",
    "    if classA.avg_age() > classB.avg_age():\n",
    "        print('A')\n",
    "    else:\n",
    "        print('B')\n"
   ]
  }
 ],
 "metadata": {
  "kernelspec": {
   "display_name": "Python 3",
   "language": "python",
   "name": "python3"
  },
  "language_info": {
   "codemirror_mode": {
    "name": "ipython",
    "version": 3
   },
   "file_extension": ".py",
   "mimetype": "text/x-python",
   "name": "python",
   "nbconvert_exporter": "python",
   "pygments_lexer": "ipython3",
   "version": "3.13.7"
  }
 },
 "nbformat": 4,
 "nbformat_minor": 5
}
