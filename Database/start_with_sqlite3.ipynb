{
 "cells": [
  {
   "cell_type": "markdown",
   "id": "38e80e92",
   "metadata": {},
   "source": [
    "# MySQL db\n",
    "Practicing database with mySQL.\n",
    "\n",
    "step one: Reading from a SQLite database"
   ]
  },
  {
   "cell_type": "code",
   "execution_count": 1,
   "id": "7e5666c1",
   "metadata": {},
   "outputs": [
    {
     "name": "stdout",
     "output_type": "stream",
     "text": [
      "Mahdi 190 90\n",
      "Amin 180 75\n",
      "Ahmad 175 60\n",
      "Mohammad 175 75\n"
     ]
    }
   ],
   "source": [
    "import sqlite3\n",
    "\n",
    "# Connect to (or create) the database file\n",
    "conn = sqlite3.connect('employees.db')\n",
    "cursor = conn.cursor()\n",
    "\n",
    "# Create the Employees table (drop if exists for a clean start)\n",
    "cursor.execute(\"DROP TABLE IF EXISTS Employees\")\n",
    "cursor.execute(\"\"\"\n",
    "    CREATE TABLE Employees (\n",
    "        Name TEXT,\n",
    "        Height INTEGER,\n",
    "        Weight INTEGER\n",
    "    )\n",
    "\"\"\")\n",
    "\n",
    "# Insert sample data\n",
    "sample_data = [\n",
    "    (\"Amin\", 180, 75),\n",
    "    (\"Mahdi\", 190, 90),\n",
    "    (\"Mohammad\", 175, 75),\n",
    "    (\"Ahmad\", 175, 60)\n",
    "]\n",
    "\n",
    "cursor.executemany(\"INSERT INTO Employees (Name, Height, Weight) VALUES (?, ?, ?)\", sample_data)\n",
    "conn.commit()\n",
    "\n",
    "# Read all data from the table\n",
    "cursor.execute(\"SELECT Name, Height, Weight FROM Employees\")\n",
    "rows = cursor.fetchall()\n",
    "\n",
    "# Sort by height (1) (descending) and then by weight (2) (ascending)\n",
    "rows.sort(key=lambda x: (-x[1], x[2]))\n",
    "\n",
    "# Print the sorted list\n",
    "for name, height, weight in rows:\n",
    "    print(f\"{name} {height} {weight}\")\n",
    "\n",
    "# Close the database connection\n",
    "conn.close()\n"
   ]
  }
 ],
 "metadata": {
  "kernelspec": {
   "display_name": "Python 3",
   "language": "python",
   "name": "python3"
  },
  "language_info": {
   "codemirror_mode": {
    "name": "ipython",
    "version": 3
   },
   "file_extension": ".py",
   "mimetype": "text/x-python",
   "name": "python",
   "nbconvert_exporter": "python",
   "pygments_lexer": "ipython3",
   "version": "3.13.7"
  }
 },
 "nbformat": 4,
 "nbformat_minor": 5
}
