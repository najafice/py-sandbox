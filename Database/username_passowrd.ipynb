{
 "cells": [
  {
   "cell_type": "markdown",
   "id": "656c96b1",
   "metadata": {},
   "source": [
    "# SQLLite in Python"
   ]
  },
  {
   "cell_type": "code",
   "execution_count": 1,
   "id": "0c14137f",
   "metadata": {},
   "outputs": [
    {
     "name": "stdout",
     "output_type": "stream",
     "text": [
      "Password must contain both letters and digits.\n",
      "User information saved successfully.\n"
     ]
    }
   ],
   "source": [
    "import sqlite3\n",
    "import re\n",
    "\n",
    "# Function to validate email format\n",
    "def is_valid_email(email):\n",
    "    # Regex pattern: expression@string.string\n",
    "    # expression: letters or letters+digits\n",
    "    # string: only letters\n",
    "    pattern = r'^[A-Za-z0-9]+@[A-Za-z]+\\.[A-Za-z]+$'\n",
    "    return re.match(pattern, email) is not None\n",
    "\n",
    "# Function to validate password (must contain both letters and digits)\n",
    "def is_valid_password(password):\n",
    "    has_letter = any(c.isalpha() for c in password)\n",
    "    has_digit = any(c.isdigit() for c in password)\n",
    "    return has_letter and has_digit\n",
    "\n",
    "# Get valid email from user\n",
    "while True:\n",
    "    email = input(\"Enter your email: \").strip()\n",
    "    if is_valid_email(email):\n",
    "        break\n",
    "    else:\n",
    "        print(\"Invalid email format. Example: user123@example.com\")\n",
    "\n",
    "# Get valid password from user\n",
    "while True:\n",
    "    password = input(\"Enter your password: \").strip()\n",
    "    if is_valid_password(password):\n",
    "        break\n",
    "    else:\n",
    "        print(\"Password must contain both letters and digits.\")\n",
    "\n",
    "# Connect to (or create) the database\n",
    "conn = sqlite3.connect('users.db')\n",
    "cursor = conn.cursor()\n",
    "\n",
    "# Create table if it does not exist\n",
    "cursor.execute(\"\"\"\n",
    "    CREATE TABLE IF NOT EXISTS Users (\n",
    "        username TEXT,\n",
    "        password TEXT\n",
    "    )\n",
    "\"\"\")\n",
    "\n",
    "# Insert the new record\n",
    "cursor.execute(\"INSERT INTO Users (username, password) VALUES (?, ?)\", (email, password))\n",
    "conn.commit()\n",
    "\n",
    "print(\"User information saved successfully.\")\n",
    "\n",
    "# Close the connection\n",
    "conn.close()\n"
   ]
  }
 ],
 "metadata": {
  "kernelspec": {
   "display_name": "Python 3",
   "language": "python",
   "name": "python3"
  },
  "language_info": {
   "codemirror_mode": {
    "name": "ipython",
    "version": 3
   },
   "file_extension": ".py",
   "mimetype": "text/x-python",
   "name": "python",
   "nbconvert_exporter": "python",
   "pygments_lexer": "ipython3",
   "version": "3.13.7"
  }
 },
 "nbformat": 4,
 "nbformat_minor": 5
}
