{
 "cells": [
  {
   "cell_type": "markdown",
   "id": "a49d60f2",
   "metadata": {},
   "source": [
    "# OOP in Python\n",
    "second notebook for OOP topic"
   ]
  },
  {
   "cell_type": "code",
   "execution_count": 10,
   "id": "c50be047",
   "metadata": {},
   "outputs": [
    {
     "name": "stdout",
     "output_type": "stream",
     "text": [
      "+98 21-3478-2000\n",
      "Tehran, Iran\n"
     ]
    }
   ],
   "source": [
    "class university():\n",
    "    def __init__(self, name):\n",
    "        self. name = name\n",
    "    def location(self):\n",
    "        print('Tehran, Iran')\n",
    "    def contact(self):\n",
    "        print('+98 21-3478-2000')\n",
    "\n",
    "iust = university('IRAN UNIVERSITY OF SCIENCE AND TECHNOLOGY')\n",
    "\n",
    "iust.name\n",
    "\n",
    "iust.contact()\n",
    "iust.location()"
   ]
  },
  {
   "cell_type": "code",
   "execution_count": 22,
   "id": "d9f48e7b",
   "metadata": {},
   "outputs": [],
   "source": [
    "class Circle():\n",
    "    Pi = 3.14\n",
    "    def __init__(self, r):\n",
    "        self.r = r\n",
    "\n",
    "    def area(self):\n",
    "        a = self.r * self.r * Circle.Pi\n",
    "        return a\n",
    "    \n",
    "    def perimeter(self):\n",
    "        p = 2 * self.r * Circle.Pi\n",
    "        return p"
   ]
  },
  {
   "cell_type": "code",
   "execution_count": 28,
   "id": "4d9825ca",
   "metadata": {},
   "outputs": [
    {
     "data": {
      "text/plain": [
       "28.26"
      ]
     },
     "execution_count": 28,
     "metadata": {},
     "output_type": "execute_result"
    }
   ],
   "source": [
    "c1 = Circle(3)\n",
    "c1.area()"
   ]
  }
 ],
 "metadata": {
  "kernelspec": {
   "display_name": "Python 3",
   "language": "python",
   "name": "python3"
  },
  "language_info": {
   "codemirror_mode": {
    "name": "ipython",
    "version": 3
   },
   "file_extension": ".py",
   "mimetype": "text/x-python",
   "name": "python",
   "nbconvert_exporter": "python",
   "pygments_lexer": "ipython3",
   "version": "3.13.7"
  }
 },
 "nbformat": 4,
 "nbformat_minor": 5
}
