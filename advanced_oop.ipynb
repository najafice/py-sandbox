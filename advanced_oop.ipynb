{
 "cells": [
  {
   "cell_type": "code",
   "execution_count": 16,
   "id": "058ca564",
   "metadata": {},
   "outputs": [
    {
     "name": "stdout",
     "output_type": "stream",
     "text": [
      "16.2\n",
      "172.4\n",
      "63.0\n",
      "15.8\n",
      "164.4\n",
      "51.6\n",
      "A\n"
     ]
    }
   ],
   "source": [
    "class student():\n",
    "    count = 0\n",
    "    def __init__ (self, age, height, weight):\n",
    "        self.height = height\n",
    "        self.weight = weight\n",
    "        self.age = age\n",
    "        student.count += 1\n",
    "    \n",
    "    def avg_age(self):\n",
    "        return sum(self.age) / float(len(self.age))\n",
    "\n",
    "    def avg_height(self):\n",
    "        return sum(self.height) / len(self.height)\n",
    "    \n",
    "    def avg_weight(self):\n",
    "        return sum(self.weight) / len(self.weight)\n",
    "\n",
    "if __name__ == \"__main__\":\n",
    "\n",
    "    classA_age = [16, 17, 15, 16, 17]\n",
    "    classA_height = [180, 175, 172, 170, 165]\n",
    "    classA_weight = [67, 72, 59, 62, 55]\n",
    "\n",
    "    classB_age = [15, 17, 16, 15, 16]\n",
    "    classB_height = [166, 156, 168, 170, 162]\n",
    "    classB_weight = [45, 52, 56, 58, 47]\n",
    "\n",
    "    classA = student(classA_age, classA_height, classA_weight)\n",
    "    classB = student(classB_age, classB_height, classB_weight)\n",
    "\n",
    "    print(classA.avg_age())\n",
    "    print(classA.avg_height())\n",
    "    print(classA.avg_weight())\n",
    "\n",
    "    print(classB.avg_age())\n",
    "    print(classB.avg_height())\n",
    "    print(classB.avg_weight())\n",
    "\n",
    "    if classA.avg_age() > classB.avg_age():\n",
    "        print('A')\n",
    "    else:\n",
    "        print('B')\n"
   ]
  },
  {
   "cell_type": "code",
   "execution_count": 19,
   "id": "e0a4d972",
   "metadata": {},
   "outputs": [
    {
     "name": "stdout",
     "output_type": "stream",
     "text": [
      "28 years\n"
     ]
    }
   ],
   "source": [
    "from datetime import date\n",
    "\n",
    "def calculateAge(birthDate):\n",
    "    today = date.today()\n",
    "    age = today.year - birthDate.year - ((today.month, today.day) < (birthDate.month, birthDate.day))\n",
    "\n",
    "    return age\n",
    "\n",
    "# Driver code : y/m/d format\n",
    "print(calculateAge(date(1997, 6, 23)), \"years\")"
   ]
  }
 ],
 "metadata": {
  "kernelspec": {
   "display_name": "Python 3",
   "language": "python",
   "name": "python3"
  },
  "language_info": {
   "codemirror_mode": {
    "name": "ipython",
    "version": 3
   },
   "file_extension": ".py",
   "mimetype": "text/x-python",
   "name": "python",
   "nbconvert_exporter": "python",
   "pygments_lexer": "ipython3",
   "version": "3.13.7"
  }
 },
 "nbformat": 4,
 "nbformat_minor": 5
}
